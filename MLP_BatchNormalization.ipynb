{
  "nbformat": 4,
  "nbformat_minor": 0,
  "metadata": {
    "colab": {
      "provenance": [],
      "authorship_tag": "ABX9TyNpKDWsVmhR7eODUzcYkyFf",
      "include_colab_link": true
    },
    "kernelspec": {
      "name": "python3",
      "display_name": "Python 3"
    },
    "language_info": {
      "name": "python"
    }
  },
  "cells": [
    {
      "cell_type": "markdown",
      "metadata": {
        "id": "view-in-github",
        "colab_type": "text"
      },
      "source": [
        "<a href=\"https://colab.research.google.com/github/VinitVpANDEY/Neural-Network/blob/main/MLP_BatchNormalization.ipynb\" target=\"_parent\"><img src=\"https://colab.research.google.com/assets/colab-badge.svg\" alt=\"Open In Colab\"/></a>"
      ]
    },
    {
      "cell_type": "code",
      "source": [
        "import torch\n",
        "import torch.nn.functional as F\n",
        "import matplotlib.pyplot as plt\n",
        "%matplotlib inline"
      ],
      "metadata": {
        "id": "7xHJbei06wUI"
      },
      "execution_count": null,
      "outputs": []
    },
    {
      "cell_type": "code",
      "source": [
        "words = open('names.txt', 'r').read().splitlines()\n",
        "print(words[:8])\n",
        "\n",
        "len(words)"
      ],
      "metadata": {
        "colab": {
          "base_uri": "https://localhost:8080/"
        },
        "id": "orE4h89n6x0D",
        "outputId": "b035c921-ca69-42c8-9155-bdd5b0c7be40"
      },
      "execution_count": null,
      "outputs": [
        {
          "output_type": "stream",
          "name": "stdout",
          "text": [
            "['emma', 'olivia', 'ava', 'isabella', 'sophia', 'charlotte', 'mia', 'amelia']\n"
          ]
        },
        {
          "output_type": "execute_result",
          "data": {
            "text/plain": [
              "32033"
            ]
          },
          "metadata": {},
          "execution_count": 3
        }
      ]
    },
    {
      "cell_type": "code",
      "source": [
        "# Build the vocabulary of characters and mappings to/from integers\n",
        "chars = sorted(list(set(''.join(words))))\n",
        "stoi = {s: i+1 for i, s in enumerate(chars)}\n",
        "stoi['.'] = 0\n",
        "itos = {i: s for s, i in stoi.items()}\n",
        "vocab_size = len(itos)\n",
        "print(itos)\n",
        "print(vocab_size)\n"
      ],
      "metadata": {
        "colab": {
          "base_uri": "https://localhost:8080/"
        },
        "id": "WIRbnjS8601p",
        "outputId": "c082a775-31a1-49d7-f466-ec5e0d7c326f"
      },
      "execution_count": null,
      "outputs": [
        {
          "output_type": "stream",
          "name": "stdout",
          "text": [
            "{1: 'a', 2: 'b', 3: 'c', 4: 'd', 5: 'e', 6: 'f', 7: 'g', 8: 'h', 9: 'i', 10: 'j', 11: 'k', 12: 'l', 13: 'm', 14: 'n', 15: 'o', 16: 'p', 17: 'q', 18: 'r', 19: 's', 20: 't', 21: 'u', 22: 'v', 23: 'w', 24: 'x', 25: 'y', 26: 'z', 0: '.'}\n",
            "27\n"
          ]
        }
      ]
    },
    {
      "cell_type": "code",
      "source": [
        "# build the dataset\n",
        "block_size = 3  # context length: how many characters do we take to predict the next one?\n",
        "\n",
        "def build_dataset(words):\n",
        "    X, Y = [], []\n",
        "\n",
        "    for w in words:\n",
        "        context = [0] * block_size\n",
        "        for ch in w + '.':\n",
        "            ix = stoi[ch]\n",
        "            X.append(context)\n",
        "            Y.append(ix)\n",
        "            context = context[1:] + [ix]  # crop and append\n",
        "\n",
        "    X = torch.tensor(X)\n",
        "    Y = torch.tensor(Y)\n",
        "    print(X.shape, Y.shape)\n",
        "    return X, Y\n",
        "\n",
        "import random\n",
        "random.seed(42)\n",
        "random.shuffle(words)\n",
        "n1 = int(0.8 * len(words))\n",
        "n2 = int(0.9 * len(words))\n",
        "\n",
        "Xtr, Ytr = build_dataset(words[:n1])  # 80%\n",
        "Xdev, Ydev = build_dataset(words[n1:n2])  # 10%\n",
        "Xte, Yte = build_dataset(words[n2:])  # 10%\n",
        "\n",
        "g = torch.Generator().manual_seed(2147483647)"
      ],
      "metadata": {
        "colab": {
          "base_uri": "https://localhost:8080/"
        },
        "id": "ZvVbbBXj63NM",
        "outputId": "de6869a6-f45b-427f-df5c-51482403f34a"
      },
      "execution_count": null,
      "outputs": [
        {
          "output_type": "stream",
          "name": "stdout",
          "text": [
            "torch.Size([182625, 3]) torch.Size([182625])\n",
            "torch.Size([22655, 3]) torch.Size([22655])\n",
            "torch.Size([22866, 3]) torch.Size([22866])\n"
          ]
        }
      ]
    },
    {
      "cell_type": "code",
      "execution_count": null,
      "metadata": {
        "id": "uCSAMnz6xwVS"
      },
      "outputs": [],
      "source": [
        "import torch\n",
        "import torch.nn.functional as F\n",
        "import matplotlib.pyplot as plt\n",
        "%matplotlib inline\n",
        "\n",
        "class Linear:\n",
        "\n",
        "  def __init__(self, fan_in, fan_out, bias=True):\n",
        "    self.weight = torch.randn((fan_in, fan_out), generator=g) / fan_in ** 0.5\n",
        "    self.bias = torch.zeros(fan_out) if bias else None\n",
        "\n",
        "  def __call__(self,x):\n",
        "    self.out = x @ self.weight\n",
        "    if self.bias is not None:\n",
        "      self.out += self.bias\n",
        "    return self.out\n",
        "\n",
        "  def parameters(self):\n",
        "    return [self.weight] + ([] if self.bias is None else [self.bias])\n",
        "\n",
        "\n",
        "class BatchNorm1d:\n",
        "\n",
        "  def __init__(self, dim, eps=1e-5, momentum=0.1):\n",
        "    self.eps = eps\n",
        "    self.momentum = momentum\n",
        "    self.training = True\n",
        "    self.gamma = torch.ones(dim)\n",
        "    self.beta = torch.zeros(dim)\n",
        "    self.running_mean = torch.zeros(dim)\n",
        "    self.running_var = torch.ones(dim)\n",
        "\n",
        "  def __call__(self, x):\n",
        "    if self.training:\n",
        "      xmean = x.mean(0, keepdim=True)\n",
        "      xvar = x.var(0, keepdim=True, unbiased=True)\n",
        "    else:\n",
        "      xmean = self.running_mean\n",
        "      xvar = self.running_var\n",
        "\n",
        "    xhat = (x - xmean) / torch.sqrt(xvar + self.eps)\n",
        "    self.out = self.gamma * xhat + self.beta\n",
        "\n",
        "    if self.training:\n",
        "      with torch.no_grad():\n",
        "        self.running_mean = (1 - self.momentum) * self.running_mean + self.momentum * xmean\n",
        "        self.running_var = (1 - self.momentum) * self.running_var + self.momentum * xvar\n",
        "\n",
        "    return self.out\n",
        "\n",
        "  def parameters(self):\n",
        "    return [self.gamma, self.beta]\n",
        "\n",
        "\n",
        "class Tanh:\n",
        "\n",
        "  def __call__(self,x):\n",
        "    self.out = torch.tanh(x)\n",
        "    return self.out\n",
        "\n",
        "  def parameters(self):\n",
        "    return []"
      ]
    },
    {
      "cell_type": "code",
      "source": [
        "# @title Default title text\n",
        "def train(max_steps, X, Y, bs=32, vocab_size = 27, n_embd = 10, n_hidden = 100, block_size = 3, weight_scale = 5/3, learning_rate = None):\n",
        "  C = torch.randn((vocab_size, n_embd), generator=g)\n",
        "\n",
        "  layers = [\n",
        "      Linear(n_embd * block_size, n_hidden), BatchNorm1d(n_hidden), Tanh(),\n",
        "      Linear(n_hidden, n_hidden), BatchNorm1d(n_hidden), Tanh(),\n",
        "      Linear(n_hidden, n_hidden), BatchNorm1d(n_hidden), Tanh(),\n",
        "      Linear(n_hidden, n_hidden), BatchNorm1d(n_hidden), Tanh(),\n",
        "      Linear(n_hidden, n_hidden), BatchNorm1d(n_hidden), Tanh(),\n",
        "      Linear(n_hidden, vocab_size), BatchNorm1d(vocab_size)\n",
        "  ]\n",
        "\n",
        "  with torch.no_grad():\n",
        "    layers[-1].gamma *= 0.1\n",
        "    for layer in layers:\n",
        "      if isinstance(layer, Linear):\n",
        "        layer.weight *= weight_scale\n",
        "\n",
        "  parameters = [C] + [p for layer in layers for p in layer.parameters()]\n",
        "  print('Total number of parameters are:', sum(p.nelement() for p in parameters))\n",
        "\n",
        "  for p in parameters:\n",
        "    p.requires_grad = True\n",
        "\n",
        "  for i in range(max_steps):\n",
        "    # minibatch construct\n",
        "    ix = torch.randint(0, X.shape[0], (bs,), generator = g)\n",
        "    Xb, Yb = X[ix], Y[ix]\n",
        "\n",
        "    # forward pass\n",
        "    emb = C[Xb]\n",
        "    x = emb.view(emb.shape[0], -1)\n",
        "    for layer in layers:\n",
        "      x = layer(x)\n",
        "    loss = F.cross_entropy(x, Yb)\n",
        "\n",
        "\n",
        "    # backward pass\n",
        "    for p in parameters:\n",
        "      p.grad = None\n",
        "    loss.backward()\n",
        "\n",
        "    # update\n",
        "    lr = 0.1 if i < 100000 else 0.01\n",
        "    if learning_rate: lr = learning_rate\n",
        "    for p in parameters:\n",
        "      p.data += -lr * p.grad\n",
        "\n",
        "    # track stats\n",
        "    if i % 10000 == 0:\n",
        "      print(f'{i:7d}/{max_steps:7d}: {loss.item():.4f}')\n",
        "\n",
        "  return layers, C\n",
        "\n"
      ],
      "metadata": {
        "id": "kuqWEZsY12Sq"
      },
      "execution_count": null,
      "outputs": []
    },
    {
      "cell_type": "code",
      "source": [
        "layers, C = train(150000, Xtr, Ytr)"
      ],
      "metadata": {
        "colab": {
          "base_uri": "https://localhost:8080/"
        },
        "id": "1lwN_mhL7RHd",
        "outputId": "57f79030-c26e-4d21-ee85-e11b98472de4"
      },
      "execution_count": null,
      "outputs": [
        {
          "output_type": "stream",
          "name": "stdout",
          "text": [
            "Total number of parameters are: 47551\n",
            "      0/ 150000: 3.2998\n",
            "  10000/ 150000: 2.4799\n",
            "  20000/ 150000: 2.2382\n",
            "  30000/ 150000: 2.2865\n",
            "  40000/ 150000: 2.0540\n",
            "  50000/ 150000: 2.3933\n",
            "  60000/ 150000: 2.2979\n",
            "  70000/ 150000: 2.1845\n",
            "  80000/ 150000: 1.9803\n",
            "  90000/ 150000: 2.3812\n",
            " 100000/ 150000: 2.1609\n",
            " 110000/ 150000: 1.8543\n",
            " 120000/ 150000: 2.0962\n",
            " 130000/ 150000: 2.3420\n",
            " 140000/ 150000: 1.7519\n"
          ]
        }
      ]
    },
    {
      "cell_type": "code",
      "source": [
        "@torch.no_grad()\n",
        "def split_loss(split):\n",
        "    x, y = {\n",
        "        'train': (Xtr, Ytr),\n",
        "        'val': (Xdev, Ydev),\n",
        "        'test': (Xte, Yte),\n",
        "    }[split]\n",
        "\n",
        "    emb = C[x]\n",
        "    x = emb.view(emb.shape[0], -1)\n",
        "    for layer in layers:\n",
        "      if isinstance(layer, BatchNorm1d):\n",
        "        layer.training = False\n",
        "\n",
        "    for layer in layers:\n",
        "      x = layer(x)\n",
        "    loss = F.cross_entropy(x, y)\n",
        "    print(split, loss.item())\n",
        "\n",
        "\n",
        "split_loss('train')\n",
        "split_loss('val')"
      ],
      "metadata": {
        "colab": {
          "base_uri": "https://localhost:8080/"
        },
        "id": "VRqAkrtFNoJN",
        "outputId": "48c09b5d-4879-4a95-804b-0e764747f6d4"
      },
      "execution_count": null,
      "outputs": [
        {
          "output_type": "stream",
          "name": "stdout",
          "text": [
            "train 2.0267608165740967\n",
            "val 2.0910773277282715\n"
          ]
        }
      ]
    },
    {
      "cell_type": "code",
      "source": [
        "def generate_name(count):\n",
        "  for i in range(count):\n",
        "    out = []\n",
        "    context = [0] * block_size\n",
        "    while True:\n",
        "      emb = C[torch.tensor([context])]\n",
        "      x = emb.view(emb.shape[0], -1)\n",
        "      for layer in layers:\n",
        "        x = layer(x)\n",
        "      p = F.softmax(x, dim=1)\n",
        "      ix = torch.multinomial(p, num_samples=1, replacement=True, generator=g).item()\n",
        "      context = context[1:] + [ix]\n",
        "      out.append(itos[ix])\n",
        "      if ix == 0:\n",
        "        break\n",
        "    print(''.join(out))\n",
        "\n",
        "generate_name(10)"
      ],
      "metadata": {
        "colab": {
          "base_uri": "https://localhost:8080/"
        },
        "id": "0y4xL_UHQcJs",
        "outputId": "81bb9828-54bd-4df0-eb8a-10dcb423252c"
      },
      "execution_count": null,
      "outputs": [
        {
          "output_type": "stream",
          "name": "stdout",
          "text": [
            "chevi.\n",
            "rub.\n",
            "jerssieyel.\n",
            "mikella.\n",
            "dema.\n",
            "mael.\n",
            "lidi.\n",
            "geria.\n",
            "zephonesise.\n",
            "del.\n"
          ]
        }
      ]
    }
  ]
}