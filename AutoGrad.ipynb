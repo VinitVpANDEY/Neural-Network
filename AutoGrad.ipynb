{
  "nbformat": 4,
  "nbformat_minor": 0,
  "metadata": {
    "colab": {
      "provenance": [],
      "authorship_tag": "ABX9TyMOnRDaQeSGCS4BPpDQi94J",
      "include_colab_link": true
    },
    "kernelspec": {
      "name": "python3",
      "display_name": "Python 3"
    },
    "language_info": {
      "name": "python"
    }
  },
  "cells": [
    {
      "cell_type": "markdown",
      "metadata": {
        "id": "view-in-github",
        "colab_type": "text"
      },
      "source": [
        "<a href=\"https://colab.research.google.com/github/VinitVpANDEY/Neural-Network/blob/main/AutoGrad.ipynb\" target=\"_parent\"><img src=\"https://colab.research.google.com/assets/colab-badge.svg\" alt=\"Open In Colab\"/></a>"
      ]
    },
    {
      "cell_type": "code",
      "execution_count": null,
      "metadata": {
        "id": "JcWFKWTUvPBg"
      },
      "outputs": [],
      "source": [
        "import math\n",
        "\n",
        "class Value:\n",
        "  def __init__(self, data, _children=(), _op='', label=''):\n",
        "    self.data = data\n",
        "    self.grad = 0.0\n",
        "    self._backward = lambda: None\n",
        "    self._prev = set(_children)\n",
        "    self._op = _op\n",
        "    self.label = label\n",
        "\n",
        "  def __repr__(self):\n",
        "    return f\"Value(data={self.data})\"\n",
        "\n",
        "  def __add__(self, other):\n",
        "    other = other if isinstance(other, Value) else Value(other)\n",
        "    out = Value(self.data + other.data, (self, other), '+')\n",
        "    def _backward():\n",
        "      self.grad += 1.0 * out.grad\n",
        "      other.grad += 1.0 * out.grad\n",
        "    out._backward = _backward\n",
        "    return out\n",
        "\n",
        "  def __mul__(self, other):\n",
        "    other = other if isinstance(other, Value) else Value(other)\n",
        "    out = Value(self.data * other.data, (self, other), '*')\n",
        "    def _backward():\n",
        "      self.grad += other.data * out.grad\n",
        "      other.grad += self.data * out.grad\n",
        "    out._backward = _backward\n",
        "    return out\n",
        "\n",
        "  def __rmul__(self, other):\n",
        "    return self * other\n",
        "\n",
        "  def tanh(self):\n",
        "    x = self.data\n",
        "    t = (math.exp(2 * x) - 1) / (math.exp(2 * x) + 1)\n",
        "    out = Value(t, (self,), 'tanh')\n",
        "    def _backward():\n",
        "      self.grad += (1 - t**2) * out.grad\n",
        "    out._backward = _backward\n",
        "    return out\n",
        "\n",
        "  def exp(self):\n",
        "    x = self.data\n",
        "    out = Value(math.exp(x), (self,), 'exp')\n",
        "    def _backward():\n",
        "      self.grad += out.data * out.grad\n",
        "    out._backward = _backward\n",
        "    return out\n",
        "\n",
        "  def __pow__(self, other):\n",
        "    assert isinstance(other, (int, float))\n",
        "    out = Value(self.data**other, (self,), f'**{other}')\n",
        "    def _backward():\n",
        "      self.grad += other * self.data**(other - 1) * out.grad\n",
        "    out._backward = _backward\n",
        "    return out\n",
        "\n",
        "  def __truediv__(self, other):\n",
        "    return self * other**-1\n",
        "\n",
        "  def __neg__(self):\n",
        "    return -self\n",
        "\n",
        "  def __sub__(self, other):\n",
        "    return self + (-other)\n",
        "\n",
        "  def backward(self):\n",
        "    topo = []\n",
        "    visited = set()\n",
        "\n",
        "    def build_topo(v):\n",
        "      if v not in visited:\n",
        "        visited.add(v)\n",
        "        for child in v._prev:\n",
        "          build_topo(child)\n",
        "        topo.append(v)\n",
        "\n",
        "    build_topo(self)\n",
        "    self.grad = 1.0\n",
        "\n",
        "    for node in reversed(topo):\n",
        "      node._backward()"
      ]
    },
    {
      "cell_type": "code",
      "source": [
        "x1 = Value(2.0, label='x1')\n",
        "x2 = Value(0.0, label='x2')\n",
        "w1 = Value(-3.0, label='w1')\n",
        "w2 = Value(1.0, label='w2')\n",
        "b = Value(6.8813735870195432, label='b')\n",
        "\n",
        "n = x1*w1 + x2*w2 + b\n",
        "o = n.tanh()\n",
        "print(o)\n",
        "o.backward()\n",
        "print('x1', x1.grad)\n",
        "print('x2', x2.grad)\n",
        "print('w1', w1.grad)\n",
        "print('w2', w2.grad)\n",
        "print('b', b.grad)"
      ],
      "metadata": {
        "id": "3r7HsgYyzI5F",
        "colab": {
          "base_uri": "https://localhost:8080/"
        },
        "outputId": "758118b9-900c-4e34-e0a7-4a5bec442ea1"
      },
      "execution_count": null,
      "outputs": [
        {
          "output_type": "stream",
          "name": "stdout",
          "text": [
            "Value(data=0.7071067811865476)\n",
            "x1 -1.4999999999999996\n",
            "x2 0.4999999999999999\n",
            "w1 0.9999999999999998\n",
            "w2 0.0\n",
            "b 0.4999999999999999\n"
          ]
        }
      ]
    },
    {
      "cell_type": "code",
      "source": [
        "import random\n",
        "\n",
        "class Neuron:\n",
        "  def __init__(self, nin):  # nin -> number of inputs to each neuron\n",
        "    self.w = [Value(random.uniform(-1, 1)) for _ in range(nin)]\n",
        "    self.b = Value(random.uniform(-1, 1))\n",
        "\n",
        "  def __call__(self, x):\n",
        "    # Convert input x to a list of Value objects\n",
        "    x_values = [Value(xi) if not isinstance(xi, Value) else xi for xi in x]\n",
        "    act = sum((wi * xi for wi, xi in zip(self.w, x_values)), Value(0.0)) + self.b\n",
        "    out = act.tanh()\n",
        "    return out\n",
        "\n",
        "  def paremeters(self):\n",
        "    return self.w + [self.b]\n",
        "\n",
        "class Layer:\n",
        "  def __init__(self, nin, nout):\n",
        "    # nin -> number of inputs to each neuron\n",
        "    # nout -> number of neurons in each layer\n",
        "    self.neurons = [Neuron(nin) for _ in range(nout)]\n",
        "\n",
        "  def __call__(self, x):\n",
        "    outs = [n(x) for n in self.neurons]\n",
        "    return outs[0] if len(outs) == 1 else outs\n",
        "\n",
        "  def paremeters(self):\n",
        "    return [p for neuron in self.neurons for p in neuron.paremeters()]\n",
        "\n",
        "class MLP:\n",
        "  def __init__(self, nin, nouts):\n",
        "    # nin -> number of inputs to each neuron\n",
        "    # nouts -> array of number of neurons in each layer\n",
        "    sz = [nin] + nouts\n",
        "    self.layers = [Layer(sz[i], sz[i+1]) for i in range(len(nouts))]\n",
        "\n",
        "  def __call__(self, x):\n",
        "    for layer in self.layers:\n",
        "      x = layer(x)                # output of one layer is input to next layer\n",
        "    return x\n",
        "\n",
        "  def paremeters(self):\n",
        "    return [p for layer in self.layers for p in layer.paremeters()]"
      ],
      "metadata": {
        "id": "oUxPsNvfNUyQ"
      },
      "execution_count": null,
      "outputs": []
    },
    {
      "cell_type": "code",
      "source": [
        "x = [2.0, 3.0, -1.0]\n",
        "n = MLP(3, [4, 4, 1])\n",
        "n(x)"
      ],
      "metadata": {
        "colab": {
          "base_uri": "https://localhost:8080/"
        },
        "id": "4rGC2iBLQl9i",
        "outputId": "7995b6cb-53c9-4685-87f2-6315438376e6"
      },
      "execution_count": null,
      "outputs": [
        {
          "output_type": "execute_result",
          "data": {
            "text/plain": [
              "Value(data=0.16655627073622567)"
            ]
          },
          "metadata": {},
          "execution_count": 42
        }
      ]
    },
    {
      "cell_type": "code",
      "source": [
        "def train(repeats, model, xs, ygt, lr=0.01):\n",
        "  for k in range(repeats):\n",
        "    # forward pass\n",
        "    ypred = [model(x) for x in xs]\n",
        "    loss = sum([(yout - ygt)**2 for ygt, yout in zip(ygt, ypred)], Value(0.0))\n",
        "    print(k, loss.data)\n",
        "\n",
        "    # backward pass\n",
        "    for p in model.paremeters():\n",
        "      p.grad = 0.0\n",
        "\n",
        "    loss.backward()\n",
        "\n",
        "    # update\n",
        "    for p in model.paremeters():\n",
        "      p.data += -lr * p.grad\n",
        "\n",
        "  return ypred\n"
      ],
      "metadata": {
        "id": "OSTRd028WHzO"
      },
      "execution_count": null,
      "outputs": []
    },
    {
      "cell_type": "code",
      "source": [
        "n = MLP(3, [4, 4, 1])\n",
        "xs = [[2.0, 3.0, -1.0], [3.0, -1.0, 0.5], [0.5, 1.0, 1.0], [1.0, 1.0, -1.0]]\n",
        "ys = [1.0, -1.0, -1.0, 1.0]\n",
        "\n",
        "ypred = train(20, n, xs, ys, lr=0.1)\n",
        "print(ypred)\n",
        "\n"
      ],
      "metadata": {
        "colab": {
          "base_uri": "https://localhost:8080/"
        },
        "id": "aV6IYLq6Rh7A",
        "outputId": "9645eaac-46ec-4eee-bb07-3c401be5e9c2"
      },
      "execution_count": null,
      "outputs": [
        {
          "output_type": "stream",
          "name": "stdout",
          "text": [
            "0 2.841363499812927\n",
            "1 0.931038669687184\n",
            "2 0.3513659177338814\n",
            "3 0.07806042887369305\n",
            "4 0.06494876326934884\n",
            "5 0.0554429440487391\n",
            "6 0.04825407184295991\n",
            "7 0.04263897903960801\n",
            "8 0.038139653729371045\n",
            "9 0.03445884654216189\n",
            "10 0.031395478939877625\n",
            "11 0.02880881860296594\n",
            "12 0.026597521904411413\n",
            "13 0.024686820359555366\n",
            "14 0.02302038924509224\n",
            "15 0.02155502047809253\n",
            "16 0.020257035014828517\n",
            "17 0.019099807685749107\n",
            "18 0.018062022716420524\n",
            "19 0.01712642067636518\n",
            "[Value(data=0.96111019135503), Value(data=-0.9589184150369641), Value(data=-0.9068822224247824), Value(data=0.9275059565460723)]\n"
          ]
        }
      ]
    }
  ]
}